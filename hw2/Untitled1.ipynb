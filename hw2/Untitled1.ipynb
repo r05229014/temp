{
 "cells": [
  {
   "cell_type": "code",
   "execution_count": 1,
   "metadata": {
    "collapsed": true
   },
   "outputs": [],
   "source": [
    "from gensim.models import Word2Vec"
   ]
  },
  {
   "cell_type": "code",
   "execution_count": 32,
   "metadata": {
    "collapsed": true
   },
   "outputs": [],
   "source": [
    "corpus = './conversation.txt'\n",
    "with open(corpus) as f:\n",
    "    content = f.read()\n",
    "parts = content.split(\"+++$+++\")\n",
    "parts = [part.strip().split('\\n') for part in parts]\n",
    "sentences = []\n",
    "for part in parts:\n",
    "    for i in range(len(part)):\n",
    "        sentences.append(\"\".join(part[i].split()))\n",
    "\n",
    "model = Word2Vec(sentences, size=128, window=5, min_count= 6, workers=8)"
   ]
  },
  {
   "cell_type": "code",
   "execution_count": 33,
   "metadata": {
    "scrolled": true
   },
   "outputs": [
    {
     "name": "stdout",
     "output_type": "stream",
     "text": [
      "我\n",
      "的\n",
      "你\n",
      ",\n",
      "是\n",
      "不\n",
      "了\n",
      "?\n",
      "們\n",
      "這\n",
      "一\n",
      ".\n",
      "他\n",
      "在\n",
      "有\n",
      "麼\n",
      "個\n",
      "好\n",
      "。\n",
      "人\n",
      "!\n",
      "來\n",
      "要\n",
      "那\n",
      "會\n",
      "就\n",
      "什\n",
      "到\n",
      "說\n",
      "沒\n",
      "嗎\n",
      "上\n",
      "想\n",
      "去\n",
      "道\n",
      "很\n",
      "看\n",
      "能\n",
      "可\n",
      "知\n",
      "得\n",
      "吧\n",
      "以\n",
      "過\n",
      "對\n",
      "她\n",
      "都\n",
      "爲\n",
      "生\n",
      "子\n"
     ]
    }
   ],
   "source": [
    "for i in range(50):\n",
    "    print(model.wv.index2word[i])"
   ]
  },
  {
   "cell_type": "code",
   "execution_count": 56,
   "metadata": {},
   "outputs": [],
   "source": [
    "class Voc:\n",
    "    def __init__(self, name):\n",
    "        self.name = name\n",
    "        self.word2index = {}\n",
    "        self.word2count = {}\n",
    "        self.index2word = {0: \"SOS\", 1: \"EOS\", 2:\"PAD\"}\n",
    "        self.n_words = 3  # Count SOS and EOS\n",
    "\n",
    "    def addSentence(self, sentence):\n",
    "        for word in sentence.split(' '):\n",
    "            self.addWord(word)\n",
    "\n",
    "    def addWord(self, word):\n",
    "        if word not in self.word2index:\n",
    "            self.word2index[word] = self.n_words\n",
    "            self.word2count[word] = 1\n",
    "            self.index2word[self.n_words] = word\n",
    "            self.n_words += 1\n",
    "        else:\n",
    "            self.word2count[word] += 1\n",
    "\n",
    "def readVocs(corpus, corpus_name):\n",
    "    print(\"Reading lines...\")\n",
    "\n",
    "    # combine every two lines into pairs and normalize\n",
    "    with open(corpus) as f:\n",
    "        content = f.read()\n",
    "    parts = content.split(\"+++$+++\")\n",
    "    parts = [part.strip().split('\\n') for part in parts]\n",
    "    pairs = []\n",
    "    for part in parts:\n",
    "        for i in range(len(part) -1):\n",
    "            pairs.append([\"\".join(part[i].split()), \"\".join(part[i+1].split())])\n",
    "\n",
    "    voc = Voc(corpus_name)\n",
    "    return voc, pairs\n",
    "\n",
    "def filterPair(p):\n",
    "    # input sequences need to preserve the last word for EOS_token\n",
    "    return len(p[0].split(' ')) < MAX_LENGTH and \\\n",
    "        len(p[1].split(' ')) < MAX_LENGTH\n",
    "\n",
    "def filterPairs(pairs):\n",
    "    return [pair for pair in pairs if filterPair(pair)]\n",
    "\n",
    "def prepareData(corpus, corpus_name, word_model):\n",
    "    voc, pairs = readVocs(corpus, corpus_name)\n",
    "    print(\"Read {!s} sentence pairs\".format(len(pairs)))\n",
    "    pairs = filterPairs(pairs)\n",
    "    print(\"Trimmed to {!s} sentence pairs\".format(len(pairs)))\n",
    "    print(\"Counting words...\")\n",
    "\n",
    "    for i in range(len(word_model.wv.vocab)):\n",
    "        voc.addWord(word_model.wv.index2word[i])\n",
    "    print(\"Counted words:\", voc.n_words)\n",
    "    directory = os.path.join(save_dir, 'training_data', corpus_name)\n",
    "    if not os.path.exists(directory):\n",
    "        os.makedirs(directory)\n",
    "    torch.save(voc, os.path.join(directory, '{!s}.tar'.format('voc')))\n",
    "    torch.save(pairs, os.path.join(directory, '{!s}.tar'.format('pairs')))\n",
    "    return voc, pairs\n",
    "\n",
    "def loadPrepareData(corpus):\n",
    "    corpus_name = corpus.split('/')[-1].split('.')[0]\n",
    "    try:\n",
    "        print(\"Start loading training data ...\")\n",
    "        voc = torch.load(os.path.join(save_dir, 'training_data', corpus_name, 'voc.tar'))\n",
    "        pairs = torch.load(os.path.join(save_dir, 'training_data', corpus_name, 'pairs.tar'))\n",
    "    except FileNotFoundError:\n",
    "        print(\"Saved data not found, start preparing trianing data ...\")\n",
    "        voc, pairs = prepareData(corpus, corpus_name)\n",
    "    return voc, pairs"
   ]
  },
  {
   "cell_type": "code",
   "execution_count": 28,
   "metadata": {
    "collapsed": true
   },
   "outputs": [],
   "source": [
    "voc = Voc('test')"
   ]
  },
  {
   "cell_type": "code",
   "execution_count": 30,
   "metadata": {},
   "outputs": [
    {
     "ename": "IndexError",
     "evalue": "list index out of range",
     "output_type": "error",
     "traceback": [
      "\u001b[0;31m---------------------------------------------------------------------------\u001b[0m",
      "\u001b[0;31mIndexError\u001b[0m                                Traceback (most recent call last)",
      "\u001b[0;32m<ipython-input-30-77b2979217bf>\u001b[0m in \u001b[0;36m<module>\u001b[0;34m()\u001b[0m\n\u001b[0;32m----> 1\u001b[0;31m \u001b[0mmodel\u001b[0m\u001b[0;34m.\u001b[0m\u001b[0mwv\u001b[0m\u001b[0;34m.\u001b[0m\u001b[0mindex2word\u001b[0m\u001b[0;34m[\u001b[0m\u001b[0;36m1\u001b[0m\u001b[0;34m]\u001b[0m\u001b[0;34m\u001b[0m\u001b[0m\n\u001b[0m",
      "\u001b[0;31mIndexError\u001b[0m: list index out of range"
     ]
    }
   ],
   "source": [
    "model.wv.index2word[1]"
   ]
  },
  {
   "cell_type": "code",
   "execution_count": 63,
   "metadata": {},
   "outputs": [
    {
     "name": "stdout",
     "output_type": "stream",
     "text": [
      "Reading lines...\n",
      "Read 2729578 sentence pairs\n",
      "Trimmed to 2729578 sentence pairs\n",
      "Counting words...\n",
      "Counted words: 5142\n"
     ]
    }
   ],
   "source": [
    "MAX_LENGTH=10\n",
    "voc, pairs = prepareData(\"./conversation.txt\", 'movie_chat500W', model)"
   ]
  },
  {
   "cell_type": "code",
   "execution_count": null,
   "metadata": {
    "collapsed": true
   },
   "outputs": [],
   "source": []
  }
 ],
 "metadata": {
  "kernelspec": {
   "display_name": "Python 3",
   "language": "python",
   "name": "python3"
  },
  "language_info": {
   "codemirror_mode": {
    "name": "ipython",
    "version": 3
   },
   "file_extension": ".py",
   "mimetype": "text/x-python",
   "name": "python",
   "nbconvert_exporter": "python",
   "pygments_lexer": "ipython3",
   "version": "3.6.3"
  }
 },
 "nbformat": 4,
 "nbformat_minor": 2
}
