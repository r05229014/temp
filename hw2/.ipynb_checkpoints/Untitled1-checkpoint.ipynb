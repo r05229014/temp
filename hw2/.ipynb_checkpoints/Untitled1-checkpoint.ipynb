{
 "cells": [
  {
   "cell_type": "code",
   "execution_count": 3,
   "metadata": {},
   "outputs": [],
   "source": [
    "from gensim.models import Word2Vec"
   ]
  },
  {
   "cell_type": "code",
   "execution_count": 34,
   "metadata": {},
   "outputs": [],
   "source": [
    "corpus = './conversation.txt'\n",
    "with open(corpus) as f:\n",
    "    content = f.read()\n",
    "parts = content.split(\"+++$+++\")\n",
    "parts = [part.strip().split('\\n') for part in parts]\n",
    "sentences = []\n",
    "for part in parts:\n",
    "    for i in range(len(part)):\n",
    "        sentences.append(\"\".join(part[i].split()))\n",
    "\n",
    "model = Word2Vec(sentences, size=128, window=5, min_count= 6, workers=8)"
   ]
  },
  {
   "cell_type": "code",
   "execution_count": 40,
   "metadata": {},
   "outputs": [
    {
     "name": "stdout",
     "output_type": "stream",
     "text": [
      "我\n",
      "的\n",
      "你\n",
      ",\n",
      "是\n",
      "不\n",
      "了\n",
      "?\n",
      "們\n",
      "這\n",
      "一\n",
      ".\n",
      "他\n",
      "在\n",
      "有\n",
      "麼\n",
      "個\n",
      "好\n",
      "。\n",
      "人\n",
      "!\n",
      "來\n",
      "要\n",
      "那\n",
      "會\n",
      "就\n",
      "什\n",
      "到\n",
      "說\n",
      "沒\n",
      "嗎\n",
      "上\n",
      "想\n",
      "去\n",
      "道\n",
      "很\n",
      "看\n",
      "能\n",
      "可\n",
      "知\n",
      "得\n",
      "吧\n",
      "以\n",
      "過\n",
      "對\n",
      "她\n",
      "都\n",
      "爲\n",
      "生\n",
      "子\n"
     ]
    }
   ],
   "source": [
    "for i in range(50):\n",
    "    print(model.wv.index2word[i])"
   ]
  },
  {
   "cell_type": "code",
   "execution_count": null,
   "metadata": {
    "collapsed": true
   },
   "outputs": [],
   "source": []
  }
 ],
 "metadata": {
  "kernelspec": {
   "display_name": "Python 3",
   "language": "python",
   "name": "python3"
  },
  "language_info": {
   "codemirror_mode": {
    "name": "ipython",
    "version": 3
   },
   "file_extension": ".py",
   "mimetype": "text/x-python",
   "name": "python",
   "nbconvert_exporter": "python",
   "pygments_lexer": "ipython3",
   "version": "3.6.3"
  }
 },
 "nbformat": 4,
 "nbformat_minor": 2
}
